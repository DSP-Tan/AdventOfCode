{
 "cells": [
  {
   "cell_type": "code",
   "execution_count": 19,
   "metadata": {},
   "outputs": [
    {
     "name": "stdout",
     "output_type": "stream",
     "text": [
      "['gtZDjBcmpcDgpZcmmbgtdtqmCGVCGGsvhCFCCqvmCMMM', 'JrhfzfLTNfJhPnhQnfzHfCFFQFSGvMFCGQFsQSMSVs', 'TllTRrfNNlfzwhtZBZgtRDBp']\n"
     ]
    }
   ],
   "source": [
    "Lines = open('input.txt', 'r').readlines()\n",
    "Sacks = [i.strip(\"\\n\") for i in Lines]\n",
    "print(Sacks[:3])"
   ]
  },
  {
   "cell_type": "code",
   "execution_count": 13,
   "metadata": {},
   "outputs": [],
   "source": [
    "Example = [\"vJrwpWtwJgWrhcsFMMfFFhFp\",\n",
    "            \"jqHRNqRjqzjGDLGLrsFMfFZSrLrFZsSL\",\n",
    "            \"PmmdzqPrVvPwwTWBwg\",\n",
    "            \"wMqvLMZHhHMvwLHjbvcjnnSBnvTQFn\",\n",
    "            \"ttgJtRGJQctTZtZT\",\n",
    "            \"CrZsJsPPZsGzwwsLwLmpwMDw\"]"
   ]
  },
  {
   "cell_type": "code",
   "execution_count": 18,
   "metadata": {},
   "outputs": [
    {
     "name": "stdout",
     "output_type": "stream",
     "text": [
      "vJrwpWtwJgWrhcsFMMfFFhFp\n",
      "vJrwpWtwJgWr\n",
      "hcsFMMfFFhFp\n"
     ]
    }
   ],
   "source": [
    "# Get two compartments of bag\n",
    "sample=Example[0]\n",
    "print(sample)\n",
    "half=int(len(sample)/2)\n",
    "comp1 = sample[:half]\n",
    "comp2 = sample[half:]\n",
    "print(comp1)\n",
    "print(comp2)\n"
   ]
  },
  {
   "cell_type": "code",
   "execution_count": 19,
   "metadata": {},
   "outputs": [
    {
     "name": "stdout",
     "output_type": "stream",
     "text": [
      "p\n"
     ]
    }
   ],
   "source": [
    "# Find common element.\n",
    "for i in comp1:\n",
    "    if i in comp2:\n",
    "        print(i)\n"
   ]
  },
  {
   "cell_type": "code",
   "execution_count": 9,
   "metadata": {},
   "outputs": [
    {
     "name": "stdout",
     "output_type": "stream",
     "text": [
      "97 65\n",
      "1 27\n",
      "122 90\n",
      "26 52\n"
     ]
    }
   ],
   "source": [
    "# Get priority\n",
    "#print(ord(\"a\"),ord(\"A\"))\n",
    "#print(ord(\"a\")-96, ord(\"A\")-38)\n",
    "#\n",
    "#print(ord(\"z\"),ord(\"Z\"))\n",
    "#print(ord(\"z\")-96, ord(\"Z\")-38)\n",
    "\n",
    "def priority(c):\n",
    "    if ord(c) > 90:\n",
    "        return ord(c)-96\n",
    "    else:\n",
    "        return ord(c)-38\n",
    "    "
   ]
  },
  {
   "cell_type": "code",
   "execution_count": 11,
   "metadata": {},
   "outputs": [
    {
     "data": {
      "text/plain": [
       "16"
      ]
     },
     "execution_count": 11,
     "metadata": {},
     "output_type": "execute_result"
    }
   ],
   "source": [
    "priority(\"p\")"
   ]
  },
  {
   "cell_type": "code",
   "execution_count": 17,
   "metadata": {},
   "outputs": [
    {
     "name": "stdout",
     "output_type": "stream",
     "text": [
      "p:16\n",
      "L:38\n",
      "P:42\n",
      "v:22\n",
      "t:20\n",
      "s:19\n",
      "157\n"
     ]
    }
   ],
   "source": [
    "tot=0\n",
    "for bag in Example:\n",
    "    half=int(len(bag)/2)\n",
    "    comp1 = set(bag[:half])\n",
    "    comp2 = set(bag[half:])\n",
    "    for i in comp1:\n",
    "        if i in comp2:\n",
    "            print(f\"{i}:{priority(i)}\")\n",
    "            tot += priority(i)\n",
    "print(tot)\n",
    "    "
   ]
  },
  {
   "cell_type": "code",
   "execution_count": 32,
   "metadata": {},
   "outputs": [
    {
     "name": "stdout",
     "output_type": "stream",
     "text": [
      "8394\n"
     ]
    }
   ],
   "source": [
    "\n",
    "Lines = open('input.txt', 'r').readlines()\n",
    "Sacks = [i.strip(\"\\n\") for i in Lines]\n",
    "\n",
    "\n",
    "def priority(c):\n",
    "    return ord(c)-96 if ord(c) > 90 else ord(c)-38\n",
    "\n",
    "tot=0\n",
    "for bag in Sacks:\n",
    "    half=int(len(bag)/2)\n",
    "    for i in set(bag[:half]):\n",
    "        if i in set(bag[half:]):\n",
    "            tot += priority(i)\n",
    "print(tot)"
   ]
  },
  {
   "cell_type": "markdown",
   "metadata": {},
   "source": [
    "# Part 2"
   ]
  },
  {
   "cell_type": "code",
   "execution_count": 27,
   "metadata": {},
   "outputs": [
    {
     "name": "stdout",
     "output_type": "stream",
     "text": [
      "r\n",
      "18\n",
      "Z\n",
      "52\n",
      "70\n"
     ]
    }
   ],
   "source": [
    "Example=[\n",
    "    \"vJrwpWtwJgWrhcsFMMfFFhFp\",\n",
    "\"jqHRNqRjqzjGDLGLrsFMfFZSrLrFZsSL\",\n",
    "\"PmmdzqPrVvPwwTWBwg\",\n",
    "\"wMqvLMZHhHMvwLHjbvcjnnSBnvTQFn\",\n",
    "\"ttgJtRGJQctTZtZT\",\n",
    "\"CrZsJsPPZsGzwwsLwLmpwMDw\"\n",
    "]\n",
    "\n",
    "i=tot=0\n",
    "while(i<len(Example)):\n",
    "    group1 = Example[i]\n",
    "    group2 = Example[i+1]\n",
    "    group3 = Example[i+2]\n",
    "    i+=3\n",
    "    for j in set(group1):\n",
    "        if j in set(group2) and j in set(group3):\n",
    "            print(j)\n",
    "            print(priority(j))\n",
    "            tot+=priority(j)\n",
    "print(tot)"
   ]
  },
  {
   "cell_type": "code",
   "execution_count": 30,
   "metadata": {},
   "outputs": [
    {
     "name": "stdout",
     "output_type": "stream",
     "text": [
      "2413\n"
     ]
    }
   ],
   "source": [
    "\n",
    "i=tot=0\n",
    "while(i<len(Sacks)):\n",
    "    for j in set(Sacks[i]):\n",
    "        if j in set(Sacks[i+1]) and j in set(Sacks[i+2]):\n",
    "            tot+=priority(j)\n",
    "    i+=3\n",
    "print(tot)"
   ]
  },
  {
   "cell_type": "markdown",
   "metadata": {},
   "source": [
    "# Both"
   ]
  },
  {
   "cell_type": "code",
   "execution_count": 38,
   "metadata": {},
   "outputs": [
    {
     "name": "stdout",
     "output_type": "stream",
     "text": [
      "8394\n",
      "2413\n"
     ]
    }
   ],
   "source": [
    "Sacks = [i.strip(\"\\n\") for i in open('input.txt', 'r').readlines()]\n",
    "\n",
    "# Part 1\n",
    "def priority(c):\n",
    "  return ord(c)-96 if ord(c) > 90 else ord(c)-38\n",
    "\n",
    "tot=0\n",
    "for bag in Sacks:\n",
    "  half=int(len(bag)/2)\n",
    "  for i in set(bag[:half]):\n",
    "    if i in set(bag[half:]):\n",
    "      tot += priority(i)\n",
    "print(tot)\n",
    "\n",
    "# Part 2\n",
    "i=tot=0\n",
    "for i in range(0,len(Sacks),3):\n",
    "  for j in set(Sacks[i]):\n",
    "    if j in set(Sacks[i+1]) and j in set(Sacks[i+2]):\n",
    "      tot+=priority(j)\n",
    "print(tot)"
   ]
  },
  {
   "cell_type": "code",
   "execution_count": 43,
   "metadata": {},
   "outputs": [
    {
     "data": {
      "text/plain": [
       "2"
      ]
     },
     "execution_count": 43,
     "metadata": {},
     "output_type": "execute_result"
    }
   ],
   "source": [
    "len([1,2,3,4])//2"
   ]
  },
  {
   "cell_type": "code",
   "execution_count": null,
   "metadata": {},
   "outputs": [],
   "source": []
  },
  {
   "cell_type": "code",
   "execution_count": 40,
   "metadata": {},
   "outputs": [
    {
     "name": "stdout",
     "output_type": "stream",
     "text": [
      "8394\n",
      "2413\n"
     ]
    }
   ],
   "source": [
    "\n",
    "Sacks = [i.strip(\"\\n\") for i in open('input.txt', 'r').readlines()]\n",
    "\n",
    "# Part 1\n",
    "def priority(c):\n",
    "  return ord(c)-96 if ord(c) > 90 else ord(c)-38\n",
    "\n",
    "tot=0\n",
    "for i in Sacks:\n",
    "  half=len(i)//2\n",
    "  for j in set(i[:half]).intersection(set(i[half:])):\n",
    "    tot += priority(j)\n",
    "print(tot)\n",
    "\n",
    "# Part 2\n",
    "i=tot=0\n",
    "for i in range(0,len(Sacks),3):\n",
    "  for j in set(Sacks[i]).intersection(Sacks[i+1],Sacks[i+2]):\n",
    "    tot+=priority(j)\n",
    "print(tot)"
   ]
  },
  {
   "cell_type": "markdown",
   "metadata": {},
   "source": [
    "## Jerome's"
   ]
  },
  {
   "cell_type": "code",
   "execution_count": null,
   "metadata": {},
   "outputs": [],
   "source": [
    "with open(\"data.txt\") as f:\n",
    "        data = f.read().split(\"\\n\")\n",
    "        chars = \"abcdefghijklmnopqrstuvwxyzABCDEFGHIJKLMNOPQRSTUVWXYZ\"\n",
    "        points_exercise_1 = 0\n",
    "        points_exercise_2 = 0\n",
    "\n",
    "        for sack in data:\n",
    "            median = int(len(sack) / 2)\n",
    "            sack1 = set(sack[:median])\n",
    "            sack2 = set(sack[median:])\n",
    "            matching = sack1.intersection(sack2)\n",
    "            for char in matching:\n",
    "                points_exercise_1 += chars.index(char) + 1\n",
    "\n",
    "        for batch in range(0, len(data), 3):\n",
    "            sack1 = set(data[batch])\n",
    "            sack2 = set(data[batch + 1])\n",
    "            sack3 = set(data[batch + 2])\n",
    "            sack_inter = sack2.intersection(sack1)\n",
    "            matching = sack_inter.intersection(sack3)\n",
    "            for char in matching:\n",
    "                points_exercise_2 += chars.index(char) + 1\n",
    "        print(f\"First exercice : {points_exercise_1}\")\n",
    "        print(f\"Second exercice : {points_exercise_2}\")"
   ]
  }
 ],
 "metadata": {
  "kernelspec": {
   "display_name": "Python 3.8.12 64-bit ('shims')",
   "language": "python",
   "name": "python3"
  },
  "language_info": {
   "codemirror_mode": {
    "name": "ipython",
    "version": 3
   },
   "file_extension": ".py",
   "mimetype": "text/x-python",
   "name": "python",
   "nbconvert_exporter": "python",
   "pygments_lexer": "ipython3",
   "version": "3.8.12"
  },
  "orig_nbformat": 4,
  "vscode": {
   "interpreter": {
    "hash": "bc372d9c2094c6db7f089be7a32a5b5b2fb43e6df497e3176ca85c1b89c1cc2d"
   }
  }
 },
 "nbformat": 4,
 "nbformat_minor": 2
}
