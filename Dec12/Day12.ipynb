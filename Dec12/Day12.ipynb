{
 "cells": [
  {
   "cell_type": "code",
   "execution_count": 76,
   "metadata": {},
   "outputs": [
    {
     "name": "stdout",
     "output_type": "stream",
     "text": [
      "(0, 0)\n",
      "(2, 5)\n"
     ]
    },
    {
     "data": {
      "text/plain": [
       "array([['a', 'a', 'b', 'q', 'p', 'o', 'n', 'm'],\n",
       "       ['a', 'b', 'c', 'r', 'y', 'x', 'x', 'l'],\n",
       "       ['a', 'c', 'c', 's', 'z', 'z', 'x', 'k'],\n",
       "       ['a', 'c', 'c', 't', 'u', 'v', 'w', 'j'],\n",
       "       ['a', 'b', 'd', 'e', 'f', 'g', 'h', 'i']], dtype='<U1')"
      ]
     },
     "metadata": {},
     "output_type": "display_data"
    },
    {
     "data": {
      "text/plain": [
       "array([[ 97,  97,  98, 113, 112, 111, 110, 109],\n",
       "       [ 97,  98,  99, 114, 121, 120, 120, 108],\n",
       "       [ 97,  99,  99, 115, 122, 122, 120, 107],\n",
       "       [ 97,  99,  99, 116, 117, 118, 119, 106],\n",
       "       [ 97,  98, 100, 101, 102, 103, 104, 105]])"
      ]
     },
     "metadata": {},
     "output_type": "display_data"
    },
    {
     "name": "stdout",
     "output_type": "stream",
     "text": [
      "[0, 1, 2, 3, 4, 5, 6, 7]\n",
      "[0, 1, 2, 3, 4]\n"
     ]
    },
    {
     "data": {
      "text/plain": [
       "<matplotlib.contour.QuadContourSet at 0x7fe85ef03a60>"
      ]
     },
     "execution_count": 76,
     "metadata": {},
     "output_type": "execute_result"
    },
    {
     "data": {
      "image/png": "[encoded data removed]",
      "text/plain": [
       "<Figure size 432x288 with 1 Axes>"
      ]
     },
     "metadata": {
      "needs_background": "light"
     },
     "output_type": "display_data"
    }
   ],
   "source": [
    "import numpy as np\n",
    "Lines=[ [j for j in i.strip('\\n')] for i in open(\"example.txt\").readlines()]\n",
    "for i,val in enumerate(Lines):\n",
    "    for j,vol in enumerate(val):\n",
    "        if vol==\"S\":\n",
    "            start= (i,j)\n",
    "        if vol==\"E\":\n",
    "            end= (i,j)\n",
    "print(start)\n",
    "print(end)\n",
    "Lines= [ [j for j in i.strip('\\n').replace(\"S\",\"a\").replace(\"E\",\"z\")] \n",
    "          for i in open(\"example.txt\").readlines()]\n",
    "grid=np.array(Lines)\n",
    "display(grid)\n",
    "\n",
    "Lines= [ [ord(j) for j in i.strip('\\n').replace(\"S\",\"a\").replace(\"E\",\"z\")] \n",
    "          for i in open(\"example.txt\").readlines()]\n",
    "grid=np.array(Lines)\n",
    "display(grid)\n",
    "\n",
    "import seaborn as sns\n",
    "x_lines=[i for i in range(grid.shape[1])]\n",
    "y_lines=[i for i in range(grid.shape[0])]\n",
    "print(x_lines)\n",
    "print(y_lines)\n",
    "import matplotlib.pyplot as plt\n",
    "plt.contourf(x_lines, y_lines, grid,9)\n"
   ]
  },
  {
   "cell_type": "code",
   "execution_count": 55,
   "metadata": {},
   "outputs": [
    {
     "data": {
      "text/plain": [
       "(5, 8)"
      ]
     },
     "execution_count": 55,
     "metadata": {},
     "output_type": "execute_result"
    }
   ],
   "source": [
    "grid.shape"
   ]
  },
  {
   "cell_type": "code",
   "execution_count": 67,
   "metadata": {},
   "outputs": [
    {
     "data": {
      "text/plain": [
       "array([-1,  0])"
      ]
     },
     "execution_count": 67,
     "metadata": {},
     "output_type": "execute_result"
    }
   ],
   "source": [
    "down*-1"
   ]
  },
  {
   "cell_type": "code",
   "execution_count": 73,
   "metadata": {},
   "outputs": [
    {
     "data": {
      "text/plain": [
       "[]"
      ]
     },
     "execution_count": 73,
     "metadata": {},
     "output_type": "execute_result"
    }
   ],
   "source": [
    "position=start\n",
    "down=np.array([1,0])\n",
    "up = -1*down\n",
    "right=np.array([0,1])\n",
    "left = -1*right\n",
    "\n",
    "dirs=[up, down, right, left]\n",
    "\n",
    "def check(position):\n",
    "    uptions=[]\n",
    "    options=[]\n",
    "    for i in dirs:\n",
    "        if grid[tuple(position+i)] - grid[tuple(position)] ==1:\n",
    "            options.append(i)\n",
    "    tions=[]\n",
    "    for i in dirs:\n",
    "        if grid[tuple(position+i)] - grid[tuple(position)] ==1:\n",
    "            tions.append(i)\n",
    "    if options:\n",
    "        return options\n",
    "    else:\n",
    "        return tions\n",
    "check(start)"
   ]
  },
  {
   "cell_type": "code",
   "execution_count": 69,
   "metadata": {},
   "outputs": [
    {
     "data": {
      "text/plain": [
       "98"
      ]
     },
     "execution_count": 69,
     "metadata": {},
     "output_type": "execute_result"
    }
   ],
   "source": [
    "grid[0,1]"
   ]
  },
  {
   "cell_type": "code",
   "execution_count": 62,
   "metadata": {},
   "outputs": [
    {
     "data": {
      "text/plain": [
       "97"
      ]
     },
     "execution_count": 62,
     "metadata": {},
     "output_type": "execute_result"
    }
   ],
   "source": [
    "grid[tuple(position+right)]\n",
    "grid[tuple(position)]"
   ]
  },
  {
   "cell_type": "code",
   "execution_count": null,
   "metadata": {},
   "outputs": [],
   "source": [
    "# Take a 2x2 square\n",
    "# Go to element which is +1\n",
    "# --- If in the 2x2 there is no +1\n",
    "# --- Take 4x4 square and go to the +1\n",
    "# --- if in the 4x4 there is none, repeat\n",
    "\n",
    "# Task: how to most quickly get to the +1?\n",
    "# There will perhaps be only one path\n",
    "\n",
    "# If there are two choices, expand the square and see which choice gets you\n",
    "# quicker to the +2."
   ]
  },
  {
   "cell_type": "code",
   "execution_count": null,
   "metadata": {},
   "outputs": [],
   "source": [
    "# if options >1\n",
    "# Take square in direction towards the z of the grid.\n",
    "# identify reachable max\n",
    "# how many steps to get there? (sum of (goal-pos) elements)\n",
    "# ==> go there, add steps to counter\n",
    "\n",
    "#do again"
   ]
  },
  {
   "cell_type": "code",
   "execution_count": 77,
   "metadata": {},
   "outputs": [
    {
     "name": "stdout",
     "output_type": "stream",
     "text": [
      "(20, 0)\n",
      "(20, 146)\n"
     ]
    },
    {
     "data": {
      "text/plain": [
       "array([['a', 'b', 'c', ..., 'a', 'a', 'a'],\n",
       "       ['a', 'b', 'c', ..., 'a', 'a', 'a'],\n",
       "       ['a', 'b', 'c', ..., 'a', 'a', 'a'],\n",
       "       ...,\n",
       "       ['a', 'b', 'a', ..., 'a', 'a', 'a'],\n",
       "       ['a', 'b', 'a', ..., 'a', 'a', 'a'],\n",
       "       ['a', 'b', 'a', ..., 'a', 'a', 'a']], dtype='<U1')"
      ]
     },
     "metadata": {},
     "output_type": "display_data"
    },
    {
     "data": {
      "text/plain": [
       "array([[97, 98, 99, ..., 97, 97, 97],\n",
       "       [97, 98, 99, ..., 97, 97, 97],\n",
       "       [97, 98, 99, ..., 97, 97, 97],\n",
       "       ...,\n",
       "       [97, 98, 97, ..., 97, 97, 97],\n",
       "       [97, 98, 97, ..., 97, 97, 97],\n",
       "       [97, 98, 97, ..., 97, 97, 97]])"
      ]
     },
     "metadata": {},
     "output_type": "display_data"
    },
    {
     "name": "stdout",
     "output_type": "stream",
     "text": [
      "[0, 1, 2, 3, 4, 5, 6, 7, 8, 9, 10, 11, 12, 13, 14, 15, 16, 17, 18, 19, 20, 21, 22, 23, 24, 25, 26, 27, 28, 29, 30, 31, 32, 33, 34, 35, 36, 37, 38, 39, 40, 41, 42, 43, 44, 45, 46, 47, 48, 49, 50, 51, 52, 53, 54, 55, 56, 57, 58, 59, 60, 61, 62, 63, 64, 65, 66, 67, 68, 69, 70, 71, 72, 73, 74, 75, 76, 77, 78, 79, 80, 81, 82, 83, 84, 85, 86, 87, 88, 89, 90, 91, 92, 93, 94, 95, 96, 97, 98, 99, 100, 101, 102, 103, 104, 105, 106, 107, 108, 109, 110, 111, 112, 113, 114, 115, 116, 117, 118, 119, 120, 121, 122, 123, 124, 125, 126, 127, 128, 129, 130, 131, 132, 133, 134, 135, 136, 137, 138, 139, 140, 141, 142, 143, 144, 145, 146, 147, 148, 149, 150, 151, 152, 153, 154, 155, 156, 157, 158, 159, 160, 161, 162, 163, 164, 165, 166, 167, 168, 169, 170]\n",
      "[0, 1, 2, 3, 4, 5, 6, 7, 8, 9, 10, 11, 12, 13, 14, 15, 16, 17, 18, 19, 20, 21, 22, 23, 24, 25, 26, 27, 28, 29, 30, 31, 32, 33, 34, 35, 36, 37, 38, 39, 40]\n"
     ]
    },
    {
     "data": {
      "text/plain": [
       "<matplotlib.contour.QuadContourSet at 0x7fe85ee89be0>"
      ]
     },
     "execution_count": 77,
     "metadata": {},
     "output_type": "execute_result"
    },
    {
     "data": {
      "image/png": "[encoded data removed]",
      "text/plain": [
       "<Figure size 432x288 with 1 Axes>"
      ]
     },
     "metadata": {
      "needs_background": "light"
     },
     "output_type": "display_data"
    }
   ],
   "source": [
    "import numpy as np\n",
    "Lines=[ [j for j in i.strip('\\n')] for i in open(\"input.txt\").readlines()]\n",
    "for i,val in enumerate(Lines):\n",
    "    for j,vol in enumerate(val):\n",
    "        if vol==\"S\":\n",
    "            start= (i,j)\n",
    "        if vol==\"E\":\n",
    "            end= (i,j)\n",
    "print(start)\n",
    "print(end)\n",
    "Lines= [ [j for j in i.strip('\\n').replace(\"S\",\"a\").replace(\"E\",\"z\")] \n",
    "          for i in open(\"input.txt\").readlines()]\n",
    "grid=np.array(Lines)\n",
    "display(grid)\n",
    "\n",
    "Lines= [ [ord(j) for j in i.strip('\\n').replace(\"S\",\"a\").replace(\"E\",\"z\")] \n",
    "          for i in open(\"input.txt\").readlines()]\n",
    "grid=np.array(Lines)\n",
    "display(grid)\n",
    "\n",
    "import seaborn as sns\n",
    "x_lines=[i for i in range(grid.shape[1])]\n",
    "y_lines=[i for i in range(grid.shape[0])]\n",
    "print(x_lines)\n",
    "print(y_lines)\n",
    "import matplotlib.pyplot as plt\n",
    "plt.contourf(x_lines, y_lines, grid,9)\n"
   ]
  },
  {
   "cell_type": "code",
   "execution_count": null,
   "metadata": {},
   "outputs": [],
   "source": [
    "# Find grid[pos]+1 of square, get vector distance, go."
   ]
  },
  {
   "cell_type": "code",
   "execution_count": null,
   "metadata": {},
   "outputs": [],
   "source": [
    "# Brute force\n",
    "# A path is a sequence of characters, none of "
   ]
  }
 ],
 "metadata": {
  "kernelspec": {
   "display_name": "Python 3",
   "language": "python",
   "name": "python3"
  },
  "language_info": {
   "codemirror_mode": {
    "name": "ipython",
    "version": 3
   },
   "file_extension": ".py",
   "mimetype": "text/x-python",
   "name": "python",
   "nbconvert_exporter": "python",
   "pygments_lexer": "ipython3",
   "version": "3.8.12"
  },
  "orig_nbformat": 4,
  "vscode": {
   "interpreter": {
    "hash": "bc372d9c2094c6db7f089be7a32a5b5b2fb43e6df497e3176ca85c1b89c1cc2d"
   }
  }
 },
 "nbformat": 4,
 "nbformat_minor": 2
}
