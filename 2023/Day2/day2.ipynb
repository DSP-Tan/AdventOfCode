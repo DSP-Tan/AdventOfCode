{
 "cells": [
  {
   "cell_type": "code",
   "execution_count": 6,
   "metadata": {},
   "outputs": [],
   "source": [
    "file1 = open('example.txt', 'r')\n",
    "Lines = [ line.strip('\\n') for line in file1.readlines() ]\n"
   ]
  },
  {
   "cell_type": "code",
   "execution_count": 14,
   "metadata": {},
   "outputs": [
    {
     "data": {
      "text/plain": [
       "['Game 1: 3 blue, 4 red; 1 red, 2 green, 6 blue; 2 green',\n",
       " 'Game 2: 1 blue, 2 green; 3 green, 4 blue, 1 red; 1 green, 1 blue',\n",
       " 'Game 3: 8 green, 6 blue, 20 red; 5 blue, 4 red, 13 green; 5 green, 1 red',\n",
       " 'Game 4: 1 green, 3 red, 6 blue; 3 green, 6 red; 3 green, 15 blue, 14 red',\n",
       " 'Game 5: 6 red, 1 blue, 3 green; 2 blue, 1 red, 2 green']"
      ]
     },
     "execution_count": 14,
     "metadata": {},
     "output_type": "execute_result"
    }
   ],
   "source": [
    "Lines\n"
   ]
  },
  {
   "cell_type": "code",
   "execution_count": 43,
   "metadata": {},
   "outputs": [
    {
     "name": "stdout",
     "output_type": "stream",
     "text": [
      "[' 3 blue, 4 red', ' 1 red, 2 green, 6 blue', ' 2 green']\n",
      "draw 0: ['3 blue', ' 4 red']\n",
      "draw 1: ['1 red', ' 2 green', ' 6 blue']\n",
      "draw 2: ['2 green']\n"
     ]
    }
   ],
   "source": [
    "gameId=int(Lines[0].split(\":\")[0].split(\"Game\")[1].strip() )\n",
    "draws =Lines[0].split(\":\")[1].split(';')\n",
    "print(draws)\n",
    "for i, draw in enumerate(draws):\n",
    "    print(f\"draw {i}: {draw.strip().split(',')}\" )\n"
   ]
  },
  {
   "cell_type": "code",
   "execution_count": 35,
   "metadata": {},
   "outputs": [
    {
     "name": "stdout",
     "output_type": "stream",
     "text": [
      "3 blue\n",
      " 4 red\n",
      "blues: 3\n",
      "greens: 0\n",
      "reds: 4\n"
     ]
    }
   ],
   "source": [
    "reds = blues = greens = 0\n",
    "for i in draw1:\n",
    "    print(i)\n",
    "    if 'blue' in i:\n",
    "        blues = int(i.split('blue')[0].strip())\n",
    "    if 'red' in i:\n",
    "        reds = int(i.split('red')[0].strip())\n",
    "    if 'green' in i:\n",
    "        greens = int(i.split('green')[0].strip())\n",
    "print(f\"blues: {blues}\")\n",
    "print(f\"greens: {greens}\")\n",
    "print(f\"reds: {reds}\")\n"
   ]
  },
  {
   "cell_type": "code",
   "execution_count": 47,
   "metadata": {},
   "outputs": [
    {
     "name": "stdout",
     "output_type": "stream",
     "text": [
      "Game: 1\n",
      "6 red\n",
      " 1 blue\n",
      " 3 green\n",
      "draw  3 green: ['3 blue', ' 4 red']\n",
      "6 red\n",
      " 1 blue\n",
      " 3 green\n",
      "draw  3 green: ['1 red', ' 2 green', ' 6 blue']\n",
      "6 red\n",
      " 1 blue\n",
      " 3 green\n",
      "draw  3 green: ['2 green']\n",
      "Game: 2\n",
      "6 red\n",
      " 1 blue\n",
      " 3 green\n",
      "draw  3 green: ['1 blue', ' 2 green']\n",
      "6 red\n",
      " 1 blue\n",
      " 3 green\n",
      "draw  3 green: ['3 green', ' 4 blue', ' 1 red']\n",
      "6 red\n",
      " 1 blue\n",
      " 3 green\n",
      "draw  3 green: ['1 green', ' 1 blue']\n",
      "Game: 3\n",
      "6 red\n",
      " 1 blue\n",
      " 3 green\n",
      "draw  3 green: ['8 green', ' 6 blue', ' 20 red']\n",
      "6 red\n",
      " 1 blue\n",
      " 3 green\n",
      "draw  3 green: ['5 blue', ' 4 red', ' 13 green']\n",
      "6 red\n",
      " 1 blue\n",
      " 3 green\n",
      "draw  3 green: ['5 green', ' 1 red']\n",
      "Game: 4\n",
      "6 red\n",
      " 1 blue\n",
      " 3 green\n",
      "draw  3 green: ['1 green', ' 3 red', ' 6 blue']\n",
      "6 red\n",
      " 1 blue\n",
      " 3 green\n",
      "draw  3 green: ['3 green', ' 6 red']\n",
      "6 red\n",
      " 1 blue\n",
      " 3 green\n",
      "draw  3 green: ['3 green', ' 15 blue', ' 14 red']\n",
      "Game: 5\n",
      "6 red\n",
      " 1 blue\n",
      " 3 green\n",
      "draw  3 green: ['6 red', ' 1 blue', ' 3 green']\n",
      "6 red\n",
      " 1 blue\n",
      " 3 green\n",
      "draw  3 green: ['2 blue', ' 1 red', ' 2 green']\n"
     ]
    }
   ],
   "source": [
    "impossibles = []\n",
    "maxB= 14\n",
    "maxG= 13\n",
    "maxR= 12\n",
    "for line in Lines:\n",
    "    gameId=int(line.split(\":\")[0].split(\"Game\")[1].strip() )\n",
    "    draws =line.split(\":\")[1].split(';')\n",
    "    print(f\"Game: {gameId}\")\n",
    "    for i, draw in enumerate(draws):\n",
    "        reds = blues = greens = 0\n",
    "        for colour in draw1:\n",
    "            print(colour)\n",
    "            if 'blue' in colour:\n",
    "                blues = int(colour.split('blue')[0].strip())\n",
    "                if blues > maxB:\n",
    "                    impossibles.append(gameId)\n",
    "                    continue\n",
    "            if 'red' in colour:\n",
    "                reds = int(colour.split('red')[0].strip())\n",
    "                if reds > maxR:\n",
    "                    impossibles.append(gameId)\n",
    "                    continue\n",
    "            if 'green' in colour:\n",
    "                greens = int(colour.split('green')[0].strip())\n",
    "                print(f\"draw {colour}: {draw.strip().split(',')}\" )\n",
    "                if greens > maxG:\n",
    "                    impossibles.append(gameId)\n",
    "                    continue\n"
   ]
  },
  {
   "cell_type": "code",
   "execution_count": null,
   "metadata": {},
   "outputs": [],
   "source": []
  }
 ],
 "metadata": {
  "kernelspec": {
   "display_name": "Python 3",
   "language": "python",
   "name": "python3"
  },
  "language_info": {
   "codemirror_mode": {
    "name": "ipython",
    "version": 3
   },
   "file_extension": ".py",
   "mimetype": "text/x-python",
   "name": "python",
   "nbconvert_exporter": "python",
   "pygments_lexer": "ipython3",
   "version": "3.8.12"
  }
 },
 "nbformat": 4,
 "nbformat_minor": 2
}
