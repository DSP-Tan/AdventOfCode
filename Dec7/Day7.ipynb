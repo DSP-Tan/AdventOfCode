{
 "cells": [
  {
   "cell_type": "code",
   "execution_count": 4,
   "metadata": {},
   "outputs": [],
   "source": [
    "example=[\n",
    "\"$ cd /\",\n",
    "\"$ ls\",\n",
    "\"dir a\",\n",
    "\"14848514 b.txt\",\n",
    "\"8504156 c.dat\",\n",
    "\"dir d\",\n",
    "\"$ cd a\",\n",
    "\"$ ls\",\n",
    "\"dir e\",\n",
    "\"29116 f\",\n",
    "\"2557 g\",\n",
    "\"62596 h.lst\",\n",
    "\"$ cd e\",\n",
    "\"$ ls\",\n",
    "\"584 i\",\n",
    "\"$ cd ..\",\n",
    "\"$ cd ..\",\n",
    "\"$ cd d\",\n",
    "\"$ ls\",\n",
    "\"4060174 j\",\n",
    "\"8033020 d.log\",\n",
    "\"5626152 d.ext\",\n",
    "\"7214296 k\"]"
   ]
  },
  {
   "cell_type": "markdown",
   "metadata": {},
   "source": [
    "## Create Directory structure"
   ]
  },
  {
   "cell_type": "code",
   "execution_count": 7,
   "metadata": {},
   "outputs": [],
   "source": [
    "root=\"/\"\n",
    "position = root\n",
    "tree= {\"root\":[]}"
   ]
  },
  {
   "cell_type": "code",
   "execution_count": 8,
   "metadata": {},
   "outputs": [
    {
     "name": "stdout",
     "output_type": "stream",
     "text": [
      "$ cd /\n",
      "$ ls\n",
      "dir a\n",
      "14848514 b.txt\n",
      "8504156 c.dat\n",
      "dir d\n",
      "$ cd a\n",
      "$ ls\n",
      "dir e\n",
      "29116 f\n",
      "2557 g\n",
      "62596 h.lst\n",
      "$ cd e\n",
      "$ ls\n",
      "584 i\n",
      "$ cd ..\n",
      "$ cd ..\n",
      "$ cd d\n",
      "$ ls\n",
      "4060174 j\n",
      "8033020 d.log\n",
      "5626152 d.ext\n",
      "7214296 k\n"
     ]
    }
   ],
   "source": [
    "for i in example:\n",
    "    print(i)"
   ]
  },
  {
   "cell_type": "code",
   "execution_count": null,
   "metadata": {},
   "outputs": [],
   "source": []
  }
 ],
 "metadata": {
  "kernelspec": {
   "display_name": "Python 3.8.12 64-bit ('shims')",
   "language": "python",
   "name": "python3"
  },
  "language_info": {
   "codemirror_mode": {
    "name": "ipython",
    "version": 3
   },
   "file_extension": ".py",
   "mimetype": "text/x-python",
   "name": "python",
   "nbconvert_exporter": "python",
   "pygments_lexer": "ipython3",
   "version": "3.8.12"
  },
  "orig_nbformat": 4,
  "vscode": {
   "interpreter": {
    "hash": "bc372d9c2094c6db7f089be7a32a5b5b2fb43e6df497e3176ca85c1b89c1cc2d"
   }
  }
 },
 "nbformat": 4,
 "nbformat_minor": 2
}
