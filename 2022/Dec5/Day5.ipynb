{
 "cells": [
  {
   "cell_type": "markdown",
   "metadata": {},
   "source": [
    "# Read Data"
   ]
  },
  {
   "cell_type": "code",
   "execution_count": 165,
   "metadata": {},
   "outputs": [
    {
     "data": {
      "text/plain": [
       "['        [C] [B] [H]                \\n',\n",
       " '[W]     [D] [J] [Q] [B]            \\n',\n",
       " '[P] [F] [Z] [F] [B] [L]            \\n',\n",
       " '[G] [Z] [N] [P] [J] [S] [V]        \\n',\n",
       " '[Z] [C] [H] [Z] [G] [T] [Z]     [C]\\n',\n",
       " '[V] [B] [M] [M] [C] [Q] [C] [G] [H]\\n',\n",
       " '[S] [V] [L] [D] [F] [F] [G] [L] [F]\\n',\n",
       " '[B] [J] [V] [L] [V] [G] [L] [N] [J]\\n',\n",
       " ' 1   2   3   4   5   6   7   8   9 \\n']"
      ]
     },
     "metadata": {},
     "output_type": "display_data"
    },
    {
     "data": {
      "text/plain": [
       "['move 5 from 4 to 7\\n',\n",
       " 'move 8 from 5 to 9\\n',\n",
       " 'move 6 from 2 to 8\\n',\n",
       " 'move 7 from 7 to 9\\n',\n",
       " 'move 1 from 7 to 4\\n',\n",
       " 'move 2 from 7 to 4\\n']"
      ]
     },
     "metadata": {},
     "output_type": "display_data"
    }
   ],
   "source": [
    "Lines = open('input.txt', 'r').readlines()\n",
    "display(Lines[:9])\n",
    "display(Lines[10:16])"
   ]
  },
  {
   "cell_type": "code",
   "execution_count": 196,
   "metadata": {},
   "outputs": [
    {
     "data": {
      "text/plain": [
       "[[], [], [], [], [], [], [], [], [], []]"
      ]
     },
     "execution_count": 196,
     "metadata": {},
     "output_type": "execute_result"
    }
   ],
   "source": [
    "stacks =[[]*9]\n",
    "for i in range(9):\n",
    "    stacks.append([])\n",
    "stacks"
   ]
  },
  {
   "cell_type": "code",
   "execution_count": 203,
   "metadata": {},
   "outputs": [
    {
     "name": "stdout",
     "output_type": "stream",
     "text": [
      "VJSFHWGFT\n",
      "\n",
      "LCTQFBVZV"
     ]
    }
   ],
   "source": [
    "# Get bottom layer of stacks to read indices\n",
    "for i, line in enumerate(Lines):\n",
    "    if '1' in line:\n",
    "        bottom_layer_of_stacks=i-1\n",
    "        break\n",
    "# Get index of instruction start\n",
    "for i, line in enumerate(Lines):\n",
    "    if 'move' in line:\n",
    "        instruct_start=i\n",
    "        break\n",
    "\n",
    "# Read indices.\n",
    "indices = []\n",
    "n_stack = 0\n",
    "for i, val in enumerate(Lines[bottom_layer_of_stacks]):\n",
    "    if val!=' ' and val !='\\n' and val !='[' and val!=']':\n",
    "        indices.append(i)\n",
    "\n",
    "\n",
    "# Read stacks\n",
    "stacks=[]\n",
    "stacks2=[]\n",
    "for i in range(len(indices)):\n",
    "    stacks.append([])\n",
    "    stacks2.append([])\n",
    "for line in Lines[:bottom_layer_of_stacks+1]:\n",
    "    for i, val in enumerate(indices):\n",
    "        if line[val] !=' ':\n",
    "            stacks[i].append(line[val])\n",
    "            stacks2[i].append(line[val])\n",
    "\n",
    "# Block moving part 1\n",
    "for instruction in Lines[instruct_start:]:\n",
    "    N   = int(instruction.split()[1])\n",
    "    fro = int(instruction.split()[3])-1\n",
    "    tow = int(instruction.split()[5])-1\n",
    "    letters=[]\n",
    "    for i in range(N):\n",
    "        letter = stacks[fro][i]\n",
    "        letters.append(letter)\n",
    "    for i in letters:\n",
    "        stacks[tow].insert(0,i)\n",
    "        stacks[fro].remove(i)\n",
    "\n",
    "for i in stacks:\n",
    "    print(i[0],end=\"\")\n",
    "print('\\n')\n",
    "\n",
    "# Block moving part 2\n",
    "for instruction in Lines[instruct_start:]:\n",
    "    N   = int(instruction.split()[1])\n",
    "    fro = int(instruction.split()[3])-1\n",
    "    tow = int(instruction.split()[5])-1\n",
    "    letters=[]\n",
    "    for i in range(N):\n",
    "        letter = stacks2[fro][i]\n",
    "        letters.append(letter)\n",
    "    for i in reversed(letters):\n",
    "        stacks2[tow].insert(0,i)\n",
    "        stacks2[fro].remove(i)\n",
    "\n",
    "for i in stacks2:\n",
    "    print(i[0],end=\"\")\n"
   ]
  },
  {
   "cell_type": "code",
   "execution_count": 184,
   "metadata": {},
   "outputs": [
    {
     "name": "stdout",
     "output_type": "stream",
     "text": [
      "LCTQFBVZV"
     ]
    }
   ],
   "source": [
    "# Get bottom layer of stacks to read indices\n",
    "for i, line in enumerate(Lines):\n",
    "    if '1' in line:\n",
    "        bottom_layer_of_stacks=i-1\n",
    "        break\n",
    "# Get index of instruction start\n",
    "for i, line in enumerate(Lines):\n",
    "    if 'move' in line:\n",
    "        instruct_start=i\n",
    "        break\n",
    "\n",
    "# Read indices.\n",
    "indices = []\n",
    "n_stack = 0\n",
    "for i, val in enumerate(Lines[bottom_layer_of_stacks]):\n",
    "    if val!=' ' and val !='\\n' and val !='[' and val!=']':\n",
    "        indices.append(i)\n",
    "\n",
    "# Read stacks\n",
    "stacks = [[],[],[],[],[],[],[],[],[]]\n",
    "for line in Lines[:bottom_layer_of_stacks+1]:\n",
    "    for i, val in enumerate(indices):\n",
    "        if line[val] !=' ':\n",
    "            stacks[i].append(line[val])\n",
    "\n",
    "\n",
    "# Block moving part 2\n",
    "for instruction in Lines[instruct_start:]:\n",
    "    N   = int(instruction.split()[1])\n",
    "    fro = int(instruction.split()[3])-1\n",
    "    tow = int(instruction.split()[5])-1\n",
    "    letters=[]\n",
    "    for i in range(N):\n",
    "        letter = stacks[fro][i]\n",
    "        letters.append(letter)\n",
    "    for i in reversed(letters):\n",
    "        stacks[tow].insert(0,i)\n",
    "        stacks[fro].remove(i)\n",
    "\n",
    "for i in stacks:\n",
    "    print(i[0],end=\"\")"
   ]
  },
  {
   "cell_type": "code",
   "execution_count": 178,
   "metadata": {},
   "outputs": [
    {
     "data": {
      "text/plain": [
       "['W', 'P', 'G', 'Z', 'V', 'S', 'B']"
      ]
     },
     "metadata": {},
     "output_type": "display_data"
    },
    {
     "data": {
      "text/plain": [
       "['F', 'Z', 'C', 'B', 'V', 'J']"
      ]
     },
     "metadata": {},
     "output_type": "display_data"
    },
    {
     "data": {
      "text/plain": [
       "['C', 'D', 'Z', 'N', 'H', 'M', 'L', 'V']"
      ]
     },
     "metadata": {},
     "output_type": "display_data"
    }
   ],
   "source": [
    "stacks = [[],[],[],[],[],[],[],[],[]]\n",
    "for line in Lines[:bottom_layer_of_stacks+1]:\n",
    "    for i, val in enumerate(indices):\n",
    "        if line[val] !=' ':\n",
    "            stacks[i].append(line[val])\n",
    "display(stacks[0])\n",
    "display(stacks[1])\n",
    "display(stacks[2])"
   ]
  },
  {
   "cell_type": "markdown",
   "metadata": {},
   "source": [
    "## Part 1"
   ]
  },
  {
   "cell_type": "code",
   "execution_count": 149,
   "metadata": {},
   "outputs": [
    {
     "name": "stdout",
     "output_type": "stream",
     "text": [
      "VJSFHWGFT"
     ]
    }
   ],
   "source": [
    "for instruction in Lines[10:]:\n",
    "    N   = int(instruction.split()[1])\n",
    "    fro = int(instruction.split()[3])-1\n",
    "    tow = int(instruction.split()[5])-1\n",
    "    letters=[]\n",
    "    for i in range(N):\n",
    "        letter = stacks[fro][i]\n",
    "        letters.append(letter)\n",
    "    for i in letters:\n",
    "        stacks[tow].insert(0,i)\n",
    "        stacks[fro].remove(i)\n",
    "\n",
    "for i in stacks:\n",
    "    print(i[0],end=\"\")\n",
    "\n"
   ]
  },
  {
   "cell_type": "markdown",
   "metadata": {},
   "source": [
    "## Part 2"
   ]
  },
  {
   "cell_type": "code",
   "execution_count": 163,
   "metadata": {},
   "outputs": [
    {
     "name": "stdout",
     "output_type": "stream",
     "text": [
      "LCTQFBVZV"
     ]
    }
   ],
   "source": [
    "\n",
    "for instruction in Lines[10:]:\n",
    "    N   = int(instruction.split()[1])\n",
    "    fro = int(instruction.split()[3])-1\n",
    "    tow = int(instruction.split()[5])-1\n",
    "    letters=[]\n",
    "    for i in range(N):\n",
    "        letter = stacks[fro][i]\n",
    "        letters.append(letter)\n",
    "    for i in reversed(letters):\n",
    "        stacks[tow].insert(0,i)\n",
    "        stacks[fro].remove(i)\n",
    "\n",
    "for i in stacks:\n",
    "    print(i[0],end=\"\")\n",
    "\n"
   ]
  },
  {
   "cell_type": "markdown",
   "metadata": {},
   "source": [
    "## Example"
   ]
  },
  {
   "cell_type": "code",
   "execution_count": 150,
   "metadata": {},
   "outputs": [
    {
     "name": "stdout",
     "output_type": "stream",
     "text": [
      "    [D]    \n",
      "\n",
      "[N] [C]    \n",
      "\n",
      "[Z] [M] [P]\n",
      "\n"
     ]
    }
   ],
   "source": [
    "Lines=[\n",
    "'    [D]    \\n',    \n",
    "'[N] [C]    \\n',\n",
    "'[Z] [M] [P]\\n',\n",
    "' 1   2   3 \\n' \n",
    "'\\n',\n",
    "\"move 1 from 2 to 1\\n\",\n",
    "\"move 3 from 1 to 3\\n\",\n",
    "\"move 2 from 2 to 1\\n\",\n",
    "\"move 1 from 1 to 2\\n\"\n",
    "]\n",
    "for line in Lines[:3]:\n",
    "    print(line)"
   ]
  },
  {
   "cell_type": "code",
   "execution_count": 151,
   "metadata": {},
   "outputs": [
    {
     "data": {
      "text/plain": [
       "['N', 'Z']"
      ]
     },
     "metadata": {},
     "output_type": "display_data"
    },
    {
     "data": {
      "text/plain": [
       "['D', 'C', 'M']"
      ]
     },
     "metadata": {},
     "output_type": "display_data"
    },
    {
     "data": {
      "text/plain": [
       "['P']"
      ]
     },
     "metadata": {},
     "output_type": "display_data"
    }
   ],
   "source": [
    "indices = []\n",
    "j=2\n",
    "for i, val in enumerate(Lines[j]):\n",
    "    if val!=' ' and val !='\\n' and val !='[' and val!=']':\n",
    "        indices.append(i)\n",
    "\n",
    "stacks = [[],[],[]]\n",
    "for line in Lines[:3]:\n",
    "    for i, val in enumerate(indices):\n",
    "        if line[val] !=' ':\n",
    "            stacks[i].append(line[val])\n",
    "display(stacks[0])\n",
    "display(stacks[1])\n",
    "display(stacks[2])"
   ]
  },
  {
   "cell_type": "code",
   "execution_count": 128,
   "metadata": {},
   "outputs": [
    {
     "data": {
      "text/plain": [
       "['move 1 from 2 to 1\\n']"
      ]
     },
     "execution_count": 128,
     "metadata": {},
     "output_type": "execute_result"
    }
   ],
   "source": [
    "Lines[4:5]"
   ]
  },
  {
   "cell_type": "code",
   "execution_count": 129,
   "metadata": {},
   "outputs": [
    {
     "name": "stdout",
     "output_type": "stream",
     "text": [
      "['D']\n",
      "['D', 'N', 'Z']\n",
      "['C', 'M']\n",
      "['D', 'N', 'Z']\n",
      "['Z', 'N', 'D', 'P']\n",
      "[]\n",
      "['C', 'M']\n",
      "['M', 'C']\n",
      "[]\n",
      "['M']\n",
      "['M']\n",
      "['C']\n"
     ]
    }
   ],
   "source": [
    "for instruction in Lines[4:]:\n",
    "    N   = int(instruction.split()[1])\n",
    "    fro = int(instruction.split()[3])-1\n",
    "    tow = int(instruction.split()[5])-1\n",
    "    letters=[]\n",
    "    for i in range(N):\n",
    "        letter = stacks[fro][i]\n",
    "        letters.append(letter)\n",
    "    print(letters)\n",
    "    for i in letters:\n",
    "        stacks[tow].insert(0,i)\n",
    "        stacks[fro].remove(i)\n",
    "    print(stacks[tow])\n",
    "    print(stacks[fro])"
   ]
  },
  {
   "cell_type": "code",
   "execution_count": 130,
   "metadata": {},
   "outputs": [
    {
     "name": "stdout",
     "output_type": "stream",
     "text": [
      "C\n",
      "M\n",
      "Z\n"
     ]
    }
   ],
   "source": [
    "for i in stacks:\n",
    "    print(i[0])"
   ]
  },
  {
   "cell_type": "markdown",
   "metadata": {},
   "source": [
    "## Crate Mover 9001"
   ]
  },
  {
   "cell_type": "code",
   "execution_count": 158,
   "metadata": {},
   "outputs": [
    {
     "name": "stdout",
     "output_type": "stream",
     "text": [
      "98\n",
      "8\n",
      "7\n",
      "6\n"
     ]
    }
   ],
   "source": [
    "fart=[6,7,8,98]\n",
    "for i in reversed(fart):\n",
    "    print(i)"
   ]
  },
  {
   "cell_type": "code",
   "execution_count": 159,
   "metadata": {},
   "outputs": [
    {
     "name": "stdout",
     "output_type": "stream",
     "text": [
      "['D']\n",
      "['D', 'N', 'Z']\n",
      "['C', 'M']\n",
      "['D', 'N', 'Z']\n",
      "['D', 'N', 'Z', 'P']\n",
      "[]\n",
      "['C', 'M']\n",
      "['C', 'M']\n",
      "[]\n",
      "['C']\n",
      "['C']\n",
      "['M']\n",
      "M\n",
      "C\n",
      "D\n"
     ]
    }
   ],
   "source": [
    "for instruction in Lines[4:]:\n",
    "    N   = int(instruction.split()[1])\n",
    "    fro = int(instruction.split()[3])-1\n",
    "    tow = int(instruction.split()[5])-1\n",
    "    letters=[]\n",
    "    for i in range(N):\n",
    "        letter = stacks[fro][i]\n",
    "        letters.append(letter)\n",
    "    print(letters)\n",
    "    for i in reversed(letters):\n",
    "        stacks[tow].insert(0,i)\n",
    "        stacks[fro].remove(i)\n",
    "    print(stacks[tow])\n",
    "    print(stacks[fro])\n",
    "\n",
    "for i in stacks:\n",
    "    print(i[0])"
   ]
  },
  {
   "cell_type": "markdown",
   "metadata": {},
   "source": [
    "## Apply to Our data"
   ]
  },
  {
   "cell_type": "code",
   "execution_count": 83,
   "metadata": {},
   "outputs": [],
   "source": [
    "stacks[0].remove(\"Z\")"
   ]
  },
  {
   "cell_type": "code",
   "execution_count": 84,
   "metadata": {},
   "outputs": [
    {
     "data": {
      "text/plain": [
       "['Z', 'Z', 'Z']"
      ]
     },
     "execution_count": 84,
     "metadata": {},
     "output_type": "execute_result"
    }
   ],
   "source": [
    "stacks[0]"
   ]
  },
  {
   "cell_type": "markdown",
   "metadata": {},
   "source": [
    "## Jules' Solution"
   ]
  },
  {
   "cell_type": "code",
   "execution_count": 204,
   "metadata": {},
   "outputs": [
    {
     "ename": "ValueError",
     "evalue": "not enough values to unpack (expected 6, got 1)",
     "output_type": "error",
     "traceback": [
      "\u001b[0;31m---------------------------------------------------------------------------\u001b[0m",
      "\u001b[0;31mValueError\u001b[0m                                Traceback (most recent call last)",
      "\u001b[0;32m/tmp/ipykernel_2480/3714000713.py\u001b[0m in \u001b[0;36m<module>\u001b[0;34m\u001b[0m\n\u001b[1;32m     25\u001b[0m     \u001b[0;32mreturn\u001b[0m \u001b[0;34m''\u001b[0m\u001b[0;34m.\u001b[0m\u001b[0mjoin\u001b[0m\u001b[0;34m(\u001b[0m\u001b[0mcrate\u001b[0m\u001b[0;34m[\u001b[0m\u001b[0;34m-\u001b[0m\u001b[0;36m1\u001b[0m\u001b[0;34m]\u001b[0m \u001b[0;32mfor\u001b[0m \u001b[0mcrate\u001b[0m \u001b[0;32min\u001b[0m \u001b[0mcrates\u001b[0m\u001b[0;34m)\u001b[0m\u001b[0;34m\u001b[0m\u001b[0;34m\u001b[0m\u001b[0m\n\u001b[1;32m     26\u001b[0m \u001b[0;34m\u001b[0m\u001b[0m\n\u001b[0;32m---> 27\u001b[0;31m \u001b[0mresult1\u001b[0m \u001b[0;34m=\u001b[0m \u001b[0mmove_it\u001b[0m\u001b[0;34m(\u001b[0m\u001b[0mpart\u001b[0m\u001b[0;34m=\u001b[0m\u001b[0;36m1\u001b[0m\u001b[0;34m)\u001b[0m\u001b[0;34m\u001b[0m\u001b[0;34m\u001b[0m\u001b[0m\n\u001b[0m\u001b[1;32m     28\u001b[0m \u001b[0mresult2\u001b[0m \u001b[0;34m=\u001b[0m \u001b[0mmove_it\u001b[0m\u001b[0;34m(\u001b[0m\u001b[0mpart\u001b[0m\u001b[0;34m=\u001b[0m\u001b[0;36m2\u001b[0m\u001b[0;34m)\u001b[0m\u001b[0;34m\u001b[0m\u001b[0;34m\u001b[0m\u001b[0m\n",
      "\u001b[0;32m/tmp/ipykernel_2480/3714000713.py\u001b[0m in \u001b[0;36mmove_it\u001b[0;34m(part)\u001b[0m\n\u001b[1;32m     15\u001b[0m \u001b[0;34m\u001b[0m\u001b[0m\n\u001b[1;32m     16\u001b[0m     \u001b[0;32mfor\u001b[0m \u001b[0mmove\u001b[0m \u001b[0;32min\u001b[0m \u001b[0mraw_moves\u001b[0m\u001b[0;34m.\u001b[0m\u001b[0msplit\u001b[0m\u001b[0;34m(\u001b[0m\u001b[0;34m'\\n'\u001b[0m\u001b[0;34m)\u001b[0m\u001b[0;34m:\u001b[0m\u001b[0;34m\u001b[0m\u001b[0;34m\u001b[0m\u001b[0m\n\u001b[0;32m---> 17\u001b[0;31m         \u001b[0m_\u001b[0m\u001b[0;34m,\u001b[0m \u001b[0mn\u001b[0m\u001b[0;34m,\u001b[0m \u001b[0m_\u001b[0m\u001b[0;34m,\u001b[0m \u001b[0mfro\u001b[0m\u001b[0;34m,\u001b[0m \u001b[0m_\u001b[0m\u001b[0;34m,\u001b[0m \u001b[0mto\u001b[0m \u001b[0;34m=\u001b[0m \u001b[0mmove\u001b[0m\u001b[0;34m.\u001b[0m\u001b[0msplit\u001b[0m\u001b[0;34m(\u001b[0m\u001b[0;34m' '\u001b[0m\u001b[0;34m)\u001b[0m\u001b[0;34m\u001b[0m\u001b[0;34m\u001b[0m\u001b[0m\n\u001b[0m\u001b[1;32m     18\u001b[0m         \u001b[0mn\u001b[0m \u001b[0;34m=\u001b[0m \u001b[0mint\u001b[0m\u001b[0;34m(\u001b[0m\u001b[0mn\u001b[0m\u001b[0;34m)\u001b[0m\u001b[0;34m;\u001b[0m \u001b[0mfro\u001b[0m \u001b[0;34m=\u001b[0m \u001b[0mint\u001b[0m\u001b[0;34m(\u001b[0m\u001b[0mfro\u001b[0m\u001b[0;34m)\u001b[0m\u001b[0;34m;\u001b[0m \u001b[0mto\u001b[0m \u001b[0;34m=\u001b[0m \u001b[0mint\u001b[0m\u001b[0;34m(\u001b[0m\u001b[0mto\u001b[0m\u001b[0;34m)\u001b[0m\u001b[0;34m\u001b[0m\u001b[0;34m\u001b[0m\u001b[0m\n\u001b[1;32m     19\u001b[0m         \u001b[0;32mif\u001b[0m \u001b[0mpart\u001b[0m \u001b[0;34m==\u001b[0m \u001b[0;36m1\u001b[0m\u001b[0;34m:\u001b[0m\u001b[0;34m\u001b[0m\u001b[0;34m\u001b[0m\u001b[0m\n",
      "\u001b[0;31mValueError\u001b[0m: not enough values to unpack (expected 6, got 1)"
     ]
    }
   ],
   "source": [
    "with open(\"input.txt\") as fo:\n",
    "    text = fo.read()\n",
    "\n",
    "raw_crates, raw_moves = text.split('\\n\\n')\n",
    "\n",
    "n_crates = int(raw_crates.strip(' \\n').split('\\n')[-1].split(' ')[-1])\n",
    "\n",
    "def move_it(part=1):\n",
    "    crates = [[] for i in range(n_crates)]\n",
    "\n",
    "    for line in raw_crates.split('\\n')[-2::-1]:\n",
    "        for i in range(int((len(line)+1)/4)):\n",
    "            if line[i*4+1] != ' ':\n",
    "                crates[i].append(line[i*4+1])\n",
    "\n",
    "    for move in raw_moves.split('\\n'):\n",
    "        _, n, _, fro, _, to = move.split(' ')\n",
    "        n = int(n); fro = int(fro); to = int(to)\n",
    "        if part == 1:\n",
    "            [crates[to-1].append(crates[fro-1].pop()) for i in range(n)]\n",
    "        if part == 2:\n",
    "            temp = [crates[fro-1].pop() for i in range(n)]\n",
    "            crates[to-1].extend(temp[::-1])\n",
    "\n",
    "    return ''.join(crate[-1] for crate in crates)\n",
    "\n",
    "result1 = move_it(part=1)\n",
    "result2 = move_it(part=2)"
   ]
  },
  {
   "cell_type": "code",
   "execution_count": null,
   "metadata": {},
   "outputs": [],
   "source": []
  }
 ],
 "metadata": {
  "kernelspec": {
   "display_name": "Python 3.8.12 64-bit ('shims')",
   "language": "python",
   "name": "python3"
  },
  "language_info": {
   "codemirror_mode": {
    "name": "ipython",
    "version": 3
   },
   "file_extension": ".py",
   "mimetype": "text/x-python",
   "name": "python",
   "nbconvert_exporter": "python",
   "pygments_lexer": "ipython3",
   "version": "3.8.12 (default, May 14 2022, 12:16:28) \n[GCC 9.4.0]"
  },
  "orig_nbformat": 4,
  "vscode": {
   "interpreter": {
    "hash": "bc372d9c2094c6db7f089be7a32a5b5b2fb43e6df497e3176ca85c1b89c1cc2d"
   }
  }
 },
 "nbformat": 4,
 "nbformat_minor": 2
}
