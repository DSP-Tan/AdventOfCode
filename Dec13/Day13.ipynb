{
 "cells": [
  {
   "cell_type": "code",
   "execution_count": 7,
   "metadata": {},
   "outputs": [
    {
     "data": {
      "text/plain": [
       "[1, 1, 3, 1, 1]"
      ]
     },
     "execution_count": 7,
     "metadata": {},
     "output_type": "execute_result"
    }
   ],
   "source": [
    "eval(open(\"example.txt\").readlines()[0].strip('\\n'))"
   ]
  },
  {
   "cell_type": "code",
   "execution_count": 14,
   "metadata": {},
   "outputs": [
    {
     "data": {
      "text/plain": [
       "[[1, 1, 3, 1, 1],\n",
       " [1, 1, 5, 1, 1],\n",
       " [[1], [2, 3, 4]],\n",
       " [[1], 4],\n",
       " [9],\n",
       " [[8, 7, 6]],\n",
       " [[4, 4], 4, 4],\n",
       " [[4, 4], 4, 4, 4],\n",
       " [7, 7, 7, 7],\n",
       " [7, 7, 7],\n",
       " [],\n",
       " [3],\n",
       " [[[]]],\n",
       " [[]],\n",
       " [1, [2, [3, [4, [5, 6, 7]]]], 8, 9],\n",
       " [1, [2, [3, [4, [5, 6, 0]]]], 8, 9]]"
      ]
     },
     "execution_count": 14,
     "metadata": {},
     "output_type": "execute_result"
    }
   ],
   "source": [
    "Lines= [eval(i.strip('\\n')) for i in open(\"example.txt\").readlines() if i !=\"\\n\"]\n",
    "Lines"
   ]
  },
  {
   "attachments": {},
   "cell_type": "markdown",
   "metadata": {},
   "source": [
    "If both values are integers, the lower integer should come first.<br> \n",
    "If the left integer is lower than the right integer, the inputs are <br> \n",
    "in the right order. If the left integer is higher than the right integer, the <br>\n",
    "inputs are not in the right order. Otherwise, the inputs are the same integer; <br>\n",
    "continue checking the next part of the input.<br>\n",
    "\n",
    "If both values are lists, compare the first value of each list, then the second <br>\n",
    "value, and so on. If the left list runs out of items first, the inputs are in the <br>\n",
    "right order. If the right list runs out of items first, the inputs are not in the right order. <br>\n",
    "If the lists are the same length and no comparison makes a decision about the order, <br>\n",
    "continue checking the next part of the input.<br>\n",
    "\n",
    "If exactly one value is an integer, convert the integer to a list which<br>\n",
    "contains that integer as its only value, then retry the comparison. For example, <br>\n",
    "if comparing [0,0,0] and 2, convert the right value to [2] (a list containing 2); <br>\n",
    "the result is then found by instead comparing [0,0,0] and [2]."
   ]
  },
  {
   "cell_type": "code",
   "execution_count": 24,
   "metadata": {},
   "outputs": [],
   "source": [
    "def delve(left,right):\n",
    "    #print(f\"left:  {left}\\nright: {right}\")\n",
    "\n",
    "    # Two lists, code for size diffs.\n",
    "    if isinstance(left,list) and isinstance(right,list):\n",
    "        # One list empty:\n",
    "        if not left and right:\n",
    "            return 1\n",
    "        if not right and left:\n",
    "            return -1\n",
    "        # Both lists empty\n",
    "        if not left and not right:\n",
    "            return 0\n",
    "\n",
    "        # Dirty dwarves delve doubly deep\n",
    "        sl=len(left)\n",
    "        sr=len(right)\n",
    "        i=0\n",
    "        while( i < min([sl,sr]) ):\n",
    "            greed=delve(left[i],right[i])\n",
    "            if greed !=0:\n",
    "                return greed\n",
    "            i +=1\n",
    "        return 0 if sl==sr else int( (sr-sl)/abs(sr-sl) )\n",
    "\n",
    "    # One a list, other not.\n",
    "    if isinstance(left,list) and isinstance(right,int):\n",
    "        return delve(left,[right])\n",
    "    if isinstance(left,int) and isinstance(right,list):\n",
    "        return delve([left],right)\n",
    "\n",
    "    # Integer bedrock\n",
    "    if isinstance(left,int) and isinstance(right,int):\n",
    "        if left!=right:\n",
    "            return int( (right-left)/abs(left-right) )\n",
    "        elif(left==right):\n",
    "            return 0"
   ]
  },
  {
   "cell_type": "code",
   "execution_count": 44,
   "metadata": {},
   "outputs": [
    {
     "name": "stdout",
     "output_type": "stream",
     "text": [
      "6478\n"
     ]
    }
   ],
   "source": [
    "Lines= [eval(i.strip('\\n')) for i in open(\"input.txt\").readlines() if i !=\"\\n\"]\n",
    "orders = [delve(Lines[i],Lines[i+1]) for i in range(0,len(Lines),2)]\n",
    "print(sum([i+1 for i,val in enumerate(orders) if val==1]))\n"
   ]
  },
  {
   "cell_type": "code",
   "execution_count": 41,
   "metadata": {},
   "outputs": [],
   "source": [
    "Lines.extend([[[2]],[[6]]])"
   ]
  },
  {
   "cell_type": "code",
   "execution_count": 42,
   "metadata": {},
   "outputs": [
    {
     "name": "stdout",
     "output_type": "stream",
     "text": [
      "21922\n"
     ]
    }
   ],
   "source": [
    "swaps=1\n",
    "while(swaps !=0):\n",
    "    swaps=0\n",
    "    for i in range(0,len(Lines)-1):\n",
    "        left=Lines[i]\n",
    "        right=Lines[i+1]\n",
    "        greed=delve(left,right)\n",
    "        if greed == -1:\n",
    "            Lines[i+1]=left\n",
    "            Lines[i]=right\n",
    "            swaps +=1\n",
    "print( (Lines.index([[2]])+1)*(Lines.index([[6]])+1)   )"
   ]
  },
  {
   "cell_type": "code",
   "execution_count": null,
   "metadata": {},
   "outputs": [],
   "source": []
  }
 ],
 "metadata": {
  "kernelspec": {
   "display_name": "Python 3",
   "language": "python",
   "name": "python3"
  },
  "language_info": {
   "codemirror_mode": {
    "name": "ipython",
    "version": 3
   },
   "file_extension": ".py",
   "mimetype": "text/x-python",
   "name": "python",
   "nbconvert_exporter": "python",
   "pygments_lexer": "ipython3",
   "version": "3.8.12"
  },
  "orig_nbformat": 4,
  "vscode": {
   "interpreter": {
    "hash": "bc372d9c2094c6db7f089be7a32a5b5b2fb43e6df497e3176ca85c1b89c1cc2d"
   }
  }
 },
 "nbformat": 4,
 "nbformat_minor": 2
}
