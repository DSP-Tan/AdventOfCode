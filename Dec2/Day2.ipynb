{
 "cells": [
  {
   "cell_type": "code",
   "execution_count": 46,
   "metadata": {},
   "outputs": [
    {
     "name": "stdout",
     "output_type": "stream",
     "text": [
      "['A X\\n', 'A X\\n', 'B Y\\n']\n",
      "[['A', 'X'], ['A', 'X'], ['B', 'Y']]\n",
      "There are 2500 games played\n"
     ]
    }
   ],
   "source": [
    "file1 = open('input.txt', 'r')\n",
    "Lines = file1.readlines()\n",
    "print(Lines[:3])\n",
    "Moves = [i.strip(\"\\n\").split() for i in Lines]\n",
    "print(Moves[:3])\n",
    "print(f\"There are {len(Moves)} games played\")"
   ]
  },
  {
   "cell_type": "markdown",
   "metadata": {},
   "source": [
    "- [A,X] are Rock, score of 1\n",
    "- [B,Y] are Paper, score of 2\n",
    "- [C,Z] are scissors, score of 3 <br> <br>\n",
    "0 for a loss, 3 for a draw, 6 for a win."
   ]
  },
  {
   "cell_type": "code",
   "execution_count": 41,
   "metadata": {},
   "outputs": [],
   "source": [
    "# Let's encode these rules in dictionaries.\n",
    "P1_dic = {\"A\":1, \"B\":2, \"C\":3}\n",
    "P2_dic = {\"X\":1, \"Y\":2, \"Z\":3}\n",
    "score_elf = {\"A\":1, \"B\":2, \"C\":3, \n",
    "             \"AX\":3, \"AY\":0, \"AZ\":6, \"BX\":6, \"BY\":3, \"BZ\":0, \"CX\":0, \"CY\":6, \"CZ\":3}\n",
    "\n",
    "score_me  = {\"X\":1, \"Y\":2, \"Z\":3, \n",
    "             \"AX\":3, \"AY\":6, \"AZ\":0, \"BX\":0, \"BY\":3, \"BZ\":6, \"CX\":6, \"CY\":0, \"CZ\":3}"
   ]
  },
  {
   "cell_type": "code",
   "execution_count": 43,
   "metadata": {},
   "outputs": [
    {
     "name": "stdout",
     "output_type": "stream",
     "text": [
      "12276\n"
     ]
    }
   ],
   "source": [
    "my_score=0\n",
    "Play1=\"Elf\"; Play2=\"Me\"\n",
    "#print(f\"{Play1:3}    | {Play2:4} | {'Score':8}\")\n",
    "for i, val in enumerate(Moves):\n",
    "    #if (i>35): break; \n",
    "    #print(f\"{val[0]:3}:{score[val[0]]:1}  | {val[1]:4} | {score[val[0]+val[1]]:4} | {score[val[0]+val[1]]+ P1_dic[val[0]]:4}\")\n",
    "    my_score += score_me[val[1]] + score_me[val[0]+val[1]]\n",
    "print(my_score)"
   ]
  },
  {
   "cell_type": "markdown",
   "metadata": {},
   "source": [
    "## Part 2"
   ]
  },
  {
   "cell_type": "markdown",
   "metadata": {},
   "source": [
    "Now we must re-interpret the second column for whether or not we need to win, lose or draw. So we must calculate our score as:<br>\n",
    "- X: Lose\n",
    "- Y: Draw\n",
    "- Z: Win"
   ]
  },
  {
   "cell_type": "markdown",
   "metadata": {},
   "source": [
    "The first thing we need to do is find the moves we must make. We can make a dict for this to <br>\n",
    "- moves {elf_move:my_move_to_win, elf_move:my_move_to_draw, elf_move:my_move_to_lose}"
   ]
  },
  {
   "cell_type": "code",
   "execution_count": 44,
   "metadata": {},
   "outputs": [
    {
     "data": {
      "text/plain": [
       "[['A', 'X', 'C'], ['A', 'X', 'C'], ['B', 'Y', 'B'], ['B', 'Y', 'B']]"
      ]
     },
     "execution_count": 44,
     "metadata": {},
     "output_type": "execute_result"
    }
   ],
   "source": [
    "move_needed={\"AX\":\"C\", \"AY\":\"A\", \"AZ\":\"B\", \"BX\":\"A\", \"BY\":\"B\", \"BZ\":\"C\", \"CX\":\"B\", \"CY\":\"C\", \"CZ\":\"A\"}\n",
    "for i in Moves:\n",
    "    i.append(move_needed[i[0]+i[1]])\n",
    "Moves[:4]"
   ]
  },
  {
   "cell_type": "code",
   "execution_count": 45,
   "metadata": {},
   "outputs": [
    {
     "name": "stdout",
     "output_type": "stream",
     "text": [
      "9975\n"
     ]
    }
   ],
   "source": [
    "my_score=0\n",
    "score_me = {\"A\":1, \"B\":2, \"C\":3, \"X\":0, \"Y\":3, \"Z\":6}\n",
    "for i in Moves:\n",
    "    my_score += score_me[i[1]]+score_me[i[2]]\n",
    "print(my_score)"
   ]
  },
  {
   "cell_type": "markdown",
   "metadata": {},
   "source": [
    "## Small versions"
   ]
  },
  {
   "cell_type": "code",
   "execution_count": 74,
   "metadata": {},
   "outputs": [
    {
     "name": "stdout",
     "output_type": "stream",
     "text": [
      "12276\n",
      "9975\n"
     ]
    }
   ],
   "source": [
    "# Part 1\n",
    "Moves = [i.strip(\"\\n\").split() for i in open('input.txt', 'r').readlines()]\n",
    "score  = {\"X\":1, \"Y\":2, \"Z\":3, \n",
    "          \"AX\":3, \"AY\":6, \"AZ\":0, \n",
    "          \"BX\":0, \"BY\":3, \"BZ\":6, \n",
    "          \"CX\":6, \"CY\":0, \"CZ\":3}\n",
    "print(sum([score[ i[1] ] + score[ i[0]+i[1] ] for i in Moves]))\n",
    "\n",
    "# Part 2\n",
    "move_needed={\"AX\":\"C\", \"AY\":\"A\", \"AZ\":\"B\", \n",
    "             \"BX\":\"A\", \"BY\":\"B\", \"BZ\":\"C\", \n",
    "             \"CX\":\"B\", \"CY\":\"C\", \"CZ\":\"A\"}\n",
    "Moves2 = [i+[ move_needed[ i[0]+i[1]] ] for i in Moves]\n",
    "score2 = {\"A\":1, \"B\":2, \"C\":3, \"X\":0, \"Y\":3, \"Z\":6}\n",
    "print(sum([score2[i[1]]+score2[i[2]] for i in Moves2]))"
   ]
  },
  {
   "cell_type": "markdown",
   "metadata": {},
   "source": [
    "## Best"
   ]
  },
  {
   "cell_type": "code",
   "execution_count": 31,
   "metadata": {},
   "outputs": [
    {
     "name": "stdout",
     "output_type": "stream",
     "text": [
      "12276\n"
     ]
    }
   ],
   "source": [
    "Movs= [  i.strip('\\n').split()  for i in open('input.txt', 'r').readlines()]\n",
    "Moves=[ (ord(i[0])-64, ord(i[1])-87) for i in Movs  ]\n",
    "\n",
    "def score(A,B):\n",
    "    return (A-B+1)*3\n",
    "\n",
    "tot=0\n",
    "for B,A in Moves:\n",
    "    if abs(A-B)<2:\n",
    "        tot += A + score(A,B) \n",
    "    elif(A<B): \n",
    "        tot += A + score(A+3,B) \n",
    "    else:\n",
    "        tot += A + score(A,B+3)   \n",
    "print(tot)"
   ]
  },
  {
   "cell_type": "markdown",
   "metadata": {},
   "source": [
    "## Smaller"
   ]
  },
  {
   "cell_type": "code",
   "execution_count": 29,
   "metadata": {},
   "outputs": [
    {
     "name": "stdout",
     "output_type": "stream",
     "text": [
      "12276\n"
     ]
    }
   ],
   "source": [
    "Moves = [ (ord(i.strip('\\n').split()[0])-64, ord(i.strip('\\n').split()[1])-87) for i in open('input.txt', 'r').readlines()]\n",
    "score=0\n",
    "for B,A in Moves:\n",
    "    score += A + (A-B+1)*3 if abs(A-B) <2 else ( A + (A+4-B)*3 if A<B else A+ (A-2-B)*3 )\n",
    "print(score)"
   ]
  },
  {
   "cell_type": "code",
   "execution_count": 24,
   "metadata": {},
   "outputs": [
    {
     "name": "stdout",
     "output_type": "stream",
     "text": [
      "12276\n"
     ]
    }
   ],
   "source": [
    "# A bit cleaner\n",
    "test=[ tuple( ord(j) for j in i.strip('\\n').split() ) for i in open('input.txt', 'r').readlines()]\n",
    "test2=[ (i[0] -64, i[1]-87) for i in test]\n",
    "score=0\n",
    "for B,A in test2:\n",
    "    score += A + (A-B+1)*3 if abs(A-B) <2 else ( A + (A+4-B)*3 if A<B else A+ (A-2-B)*3 )\n",
    "print(score)\n"
   ]
  },
  {
   "cell_type": "markdown",
   "metadata": {},
   "source": [
    "### One Line"
   ]
  },
  {
   "cell_type": "code",
   "execution_count": 8,
   "metadata": {},
   "outputs": [
    {
     "data": {
      "text/plain": [
       "12276"
      ]
     },
     "execution_count": 8,
     "metadata": {},
     "output_type": "execute_result"
    }
   ],
   "source": [
    "sum( [ A + (A-B+1)*3 if abs(A-B) <2 else ( A + (A+4-B)*3 if A<B else A+ (A-2-B)*3 ) for B,A in [(ord(i.strip('\\n').split()[0])-64,ord(i.strip('\\n').split()[1])-87) for i in open('input.txt', 'r').readlines()] ]  )"
   ]
  },
  {
   "cell_type": "markdown",
   "metadata": {},
   "source": [
    "## Jerome's solution"
   ]
  },
  {
   "cell_type": "code",
   "execution_count": null,
   "metadata": {},
   "outputs": [],
   "source": [
    "with open(\"data.txt\") as f:\n",
    "        data = f.read().split(\"\\n\")\n",
    "\n",
    "        points_exercise_1 = 0\n",
    "        points_exercise_2 = 0\n",
    "\n",
    "        for games in data:\n",
    "            ennemy, me = games.split()\n",
    "            points_exercise_1 += {'X': 1, 'Y': 2, 'Z': 3}[me]\n",
    "            points_exercise_1 += {\n",
    "                ('A', 'X'): 3,\n",
    "                ('A', 'Y'): 6,\n",
    "                ('A', 'Z'): 0,\n",
    "                ('B', 'X'): 0,\n",
    "                ('B', 'Y'): 3,\n",
    "                ('B', 'Z'): 6,\n",
    "                ('C', 'X'): 6,\n",
    "                ('C', 'Y'): 0,\n",
    "                ('C', 'Z'): 3,\n",
    "            }[(ennemy, me)]\n",
    "\n",
    "            points_exercise_2 += {'X': 0, 'Y': 3, 'Z': 6}[me]\n",
    "            points_exercise_2 += {\n",
    "                ('A', 'X'): 3,\n",
    "                ('A', 'Y'): 1,\n",
    "                ('A', 'Z'): 2,\n",
    "                ('B', 'X'): 1,\n",
    "                ('B', 'Y'): 2,\n",
    "                ('B', 'Z'): 3,\n",
    "                ('C', 'X'): 2,\n",
    "                ('C', 'Y'): 3,\n",
    "                ('C', 'Z'): 1,\n",
    "            }[(ennemy, me)]\n",
    "        print(f\"First exercice : {points_exercise_1}\")\n",
    "        print(f\"First exercice : {points_exercise_2}\")"
   ]
  },
  {
   "cell_type": "markdown",
   "metadata": {},
   "source": [
    "## Jules' solution"
   ]
  },
  {
   "cell_type": "code",
   "execution_count": null,
   "metadata": {},
   "outputs": [],
   "source": [
    "import sys\n",
    "from aochelper import get_data\n",
    "\n",
    "lines = get_data(sys.argv)\n",
    "\n",
    "shape = {'X': 1, 'Y': 2, 'Z': 3}\n",
    "winning = {'A X': 3,'A Y': 6,'A Z': 0,\n",
    "           'B X': 0,'B Y': 3,'B Z': 6,\n",
    "           'C X': 6,'C Y': 0,'C Z': 3 }\n",
    "\n",
    "shape_score = sum([shape[line[2]] for line in lines])\n",
    "winning_score = sum([winning[line] for line in lines])\n",
    "\n",
    "result1 = shape_score + winning_score\n",
    "\n",
    "print(\"The result is for part 1 is:\", result1)"
   ]
  }
 ],
 "metadata": {
  "kernelspec": {
   "display_name": "Python 3.8.12 64-bit ('shims')",
   "language": "python",
   "name": "python3"
  },
  "language_info": {
   "codemirror_mode": {
    "name": "ipython",
    "version": 3
   },
   "file_extension": ".py",
   "mimetype": "text/x-python",
   "name": "python",
   "nbconvert_exporter": "python",
   "pygments_lexer": "ipython3",
   "version": "3.8.12"
  },
  "orig_nbformat": 4,
  "vscode": {
   "interpreter": {
    "hash": "bc372d9c2094c6db7f089be7a32a5b5b2fb43e6df497e3176ca85c1b89c1cc2d"
   }
  }
 },
 "nbformat": 4,
 "nbformat_minor": 2
}
